{
 "cells": [
  {
   "cell_type": "code",
   "execution_count": null,
   "metadata": {},
   "outputs": [],
   "source": [
    "# @title ## 1.1. Global Settings\n",
    "import os\n",
    "\n",
    "#@markdown Path to store model files\n",
    "data_dir = \"/content/data\" # @param {type:\"string\"}\n",
    "%env DATA_DIR=$data_dir\n",
    "working_dir = \"/content\"\n",
    "%env WORKING_DIR=$working_dir\n",
    "root_repo_dir = \"/content\" # @param {type:\"string\"}\n",
    "%env ROOT_REPO_DIR=$root_repo_dir\n",
    "log_dir = \"/content/logs\" # @param {type:\"string\"}\n",
    "%env LOG_DIR=$log_dir\n",
    "image_output_dir = \"/content/images\" # @param {type:\"string\"}\n",
    "%env IMAGE_OUTPUT_DIR=$image_output_dir\n",
    "\n",
    "for dir in [data_dir, working_dir, root_repo_dir, log_dir, image_output_dir]:\n",
    "    if not os.path.exists(dir):\n",
    "        os.makedirs(dir)\n",
    "\n",
    "if not os.path.exists(os.path.join(root_repo_dir, \"Ultimate-Paperspace-Template\")):\n",
    "    !cd $root_repo_dir\n",
    "    !git clone -q https://github.com/sheldonchiu/Ultimate-Paperspace-Template.git\n"
   ]
  },
  {
   "cell_type": "code",
   "execution_count": null,
   "metadata": {},
   "outputs": [],
   "source": [
    "!cd $root_repo_dir\n",
    "!git clone https://github.com/sheldonchiu/Ultimate-Paperspace-Template.git"
   ]
  },
  {
   "cell_type": "code",
   "execution_count": null,
   "metadata": {},
   "outputs": [],
   "source": [
    "import os\n",
    "\n",
    "enable_rclone = False # @param {type:\"boolean\"}\n",
    "if enable_rclone:\n",
    "    os.environ[\"RUN_SCRIPT\"] = \"rclone\"\n",
    "rclone_serve_protocol = \"webdav\" # @param [\"webdav\", \"sftp\"] {type:\"string\"}\n",
    "%env RCLONE_SERVE_PROTOCOL=$rclone_serve_protocol\n",
    "rclone_port = 7004 # @param {type:\"integer\"}\n",
    "%env RCLONE_PORT=$rclone_port\n",
    "rclone_serve_path = \"/content\" # @param {type:\"string\"}\n",
    "%env RCLONE_SERVE_PATH=$rclone_serve_path\n",
    "rclone_username = \"\" # @param {type:\"string\"}\n",
    "%env RCLONE_USERNAME=$rclone_username\n",
    "rclone_password = \"\" # @param {type:\"string\"}\n",
    "%env RCLONE_PASSWORD=$rclone_password\n",
    "\n",
    "!bash $root_repo_dir/Ultimate-Paperspace-Template/entry.sh"
   ]
  },
  {
   "cell_type": "code",
   "execution_count": null,
   "metadata": {},
   "outputs": [],
   "source": [
    "import os\n",
    "\n",
    "enable_cloudflared = False # @param {type:\"boolean\"}\n",
    "if enable_cloudflared:\n",
    "    os.environ[\"RUN_SCRIPT\"] = \"cloudflared\"\n",
    "cloudflare_token = \"quick\" # @param {type:\"string\"}\n",
    "%env CF_TOKEN=$cloudflare_token\n",
    "\n",
    "!bash $root_repo_dir/Ultimate-Paperspace-Template/entry.sh"
   ]
  },
  {
   "cell_type": "code",
   "execution_count": null,
   "metadata": {},
   "outputs": [],
   "source": [
    "!bash $root_repo_dir/Ultimate-Paperspace-Template/entry.sh"
   ]
  }
 ],
 "metadata": {
  "language_info": {
   "name": "python"
  },
  "orig_nbformat": 4
 },
 "nbformat": 4,
 "nbformat_minor": 2
}
